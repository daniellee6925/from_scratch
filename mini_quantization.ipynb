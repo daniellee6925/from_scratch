{
 "cells": [
  {
   "cell_type": "code",
   "execution_count": null,
   "id": "8f743c89",
   "metadata": {},
   "outputs": [
    {
     "name": "stdout",
     "output_type": "stream",
     "text": [
      "[147.69 -49.94   0.   119.37 -32.34  50.36  -8.18 144.12 140.26 130.15\n",
      "  57.05 -27.46 126.14  18.3  -34.07 112.41 146.69  43.33  65.72 -48.94]\n"
     ]
    }
   ],
   "source": [
    "import numpy as np\n",
    "\n",
    "# do not print with scientific notation\n",
    "np.set_printoptions(suppress=True)\n",
    "\n",
    "# generate randomly generated parameters \n",
    "params = np.random.uniform(low = -50, high = 150, size = 20)\n",
    "\n",
    "# set min and max to beginning for easier debugging \n",
    "params[0] = params.max() + 1\n",
    "params[1] = params.min() - 1\n",
    "params[2] = 0\n",
    "\n",
    "# round to second decimal\n",
    "params = np.round(params, 2)\n",
    "\n",
    "print(params)"
   ]
  },
  {
   "cell_type": "code",
   "execution_count": null,
   "id": "37f496e1",
   "metadata": {},
   "outputs": [],
   "source": [
    "def clamp(params_q: np.array, lower_bound: int, upper_bound: int) -> np.array:\n",
    "    params_q[params_q < lower_bound] = lower_bound\n",
    "    params_q[params_q > upper_bound] = upper_bound\n",
    "    \n",
    "    return params_q\n",
    "\n",
    "def asymmmetric_quantization(params: np.array, bits:int) -> tuple[np.array, float, int]:\n",
    "    # calculate the scale and zero point \n",
    "    alpha = params.max()\n",
    "    beta = params.min()\n",
    "    scale = (alpha - beta) / (2 **bits - 1)\n",
    "    zero = -1 * np.round(beta / scale)\n",
    "    lower_bound, upper_bound = 0, 2**bits -1\n",
    "    #quantize parameters \n",
    "    quantized = clamp(np.round(params / scale + zero), lower_bound, upper_bound).astype(np.int32)\n",
    "    return quantized, scale, zero\n",
    "\n",
    "def asymmmetric_quantization_percentile(params: np.array, bits:int, percentile:float = 99.99) -> tuple[np.array, float, int]:\n",
    "    # calculate the scale and zero point \n",
    "    alpha = np.percentile(params, percentile)\n",
    "    beta = np.percentile(params, 100 - percentile)\n",
    "    scale = (alpha - beta) / (2 **bits - 1)\n",
    "    zero = -1 * np.round(beta / scale)\n",
    "    lower_bound, upper_bound = 0, 2**bits -1\n",
    "    #quantize parameters \n",
    "    quantized = clamp(np.round(params / scale + zero), lower_bound, upper_bound).astype(np.int32)\n",
    "    return quantized, scale, zero\n",
    "\n",
    "\n",
    "def symmmetric_quantization(params: np.array, bits:int) -> tuple[np.array, float]:\n",
    "    # calculate the scale and zero point \n",
    "    alpha = np.max(np.abs(params))\n",
    "    scale = alpha  / (2 **(bits-1) - 1)\n",
    "    lower_bound, upper_bound = - 2**(bits-1), 2**(bits-1) -1\n",
    "    #quantize parameters \n",
    "    quantized = clamp(np.round(params / scale), lower_bound, upper_bound).astype(np.int32)\n",
    "    return quantized, scale\n",
    "\n",
    "def asymmetric_dequantize(params_q: np.array, scale: float, zero:int)-> np.array:\n",
    "    return (params_q - zero) * scale\n",
    "\n",
    "def symmetric_dequantize(params_q: np.array, scale: float)-> np.array:\n",
    "    return params_q * scale\n",
    "\n",
    "def quantization_error(params: np.array, params_q: np.array):\n",
    "    # calculate the MSE\n",
    "    return np.mean((params - params_q)**2)"
   ]
  },
  {
   "cell_type": "code",
   "execution_count": 21,
   "id": "3ffa475b",
   "metadata": {},
   "outputs": [
    {
     "name": "stdout",
     "output_type": "stream",
     "text": [
      "Original: \n",
      "[147.69 -49.94   0.   119.37 -32.34  50.36  -8.18 144.12 140.26 130.15\n",
      "  57.05 -27.46 126.14  18.3  -34.07 112.41 146.69  43.33  65.72 -48.94]\n",
      "\n",
      "Asymmetric scale: 0.7750196078431373, zero: 64.0\n",
      "[255   0  64 218  22 129  53 250 245 232 138  29 227  88  20 209 253 120\n",
      " 149   1]\n",
      "\n",
      "Symmetric scale: 1.1629133858267717\n",
      "[127 -43   0 103 -28  43  -7 124 121 112  49 -24 108  16 -29  97 126  37\n",
      "  57 -42]\n"
     ]
    }
   ],
   "source": [
    "(asymmetric_q, asymmetric_scale, asymmteric_zero) = asymmmetric_quantization(params, 8)\n",
    "(symmetric_q, symmetric_scale) = symmmetric_quantization(params, 8)\n",
    "\n",
    "print(\"Original: \")\n",
    "print(np.round(params, 2))\n",
    "print('')\n",
    "print(f\"Asymmetric scale: {asymmetric_scale}, zero: {asymmteric_zero}\")\n",
    "print(asymmetric_q)\n",
    "print('')\n",
    "print(f\"Symmetric scale: {symmetric_scale}\")\n",
    "print(symmetric_q)"
   ]
  },
  {
   "cell_type": "code",
   "execution_count": 22,
   "id": "7f982fd0",
   "metadata": {},
   "outputs": [
    {
     "name": "stdout",
     "output_type": "stream",
     "text": [
      "Original: \n",
      "[147.69 -49.94   0.   119.37 -32.34  50.36  -8.18 144.12 140.26 130.15\n",
      "  57.05 -27.46 126.14  18.3  -34.07 112.41 146.69  43.33  65.72 -48.94]\n",
      "\n",
      "Deq Asymmetric: \n",
      "[148.03 -49.6    0.   119.35 -32.55  50.38  -8.53 144.15 140.28 130.2\n",
      "  57.35 -27.13 126.33  18.6  -34.1  112.38 146.48  43.4   65.88 -48.83]\n",
      "\n",
      "Deq Symmetric: \n",
      "[147.69 -50.01   0.   119.78 -32.56  50.01  -8.14 144.2  140.71 130.25\n",
      "  56.98 -27.91 125.59  18.61 -33.72 112.8  146.53  43.03  66.29 -48.84]\n"
     ]
    }
   ],
   "source": [
    "params_deq_asymmteric = asymmetric_dequantize(asymmetric_q, asymmetric_scale, asymmteric_zero)\n",
    "params_deq_symmteric = symmetric_dequantize(symmetric_q, symmetric_scale)\n",
    "\n",
    "print(\"Original: \")\n",
    "print(np.round(params, 2))\n",
    "print('')\n",
    "print(\"Deq Asymmetric: \")\n",
    "print(np.round(params_deq_asymmteric, 2))\n",
    "print('')\n",
    "print(\"Deq Symmetric: \")\n",
    "print(np.round(params_deq_symmteric, 2))"
   ]
  },
  {
   "cell_type": "code",
   "execution_count": 25,
   "id": "49b96247",
   "metadata": {},
   "outputs": [
    {
     "name": "stdout",
     "output_type": "stream",
     "text": [
      "  Asymmetric error: 0.04\n",
      "   Symmetric error: 0.09\n"
     ]
    }
   ],
   "source": [
    "# calculate error\n",
    "print(f'{\"Asymmetric error: \":>20}{np.round(quantization_error(params, params_deq_asymmteric), 2)}')\n",
    "print(f'{\"Symmetric error: \":>20}{np.round(quantization_error(params, params_deq_symmteric), 2)}')"
   ]
  },
  {
   "cell_type": "code",
   "execution_count": null,
   "id": "493dbeb8",
   "metadata": {},
   "outputs": [],
   "source": []
  }
 ],
 "metadata": {
  "kernelspec": {
   "display_name": "base",
   "language": "python",
   "name": "python3"
  },
  "language_info": {
   "codemirror_mode": {
    "name": "ipython",
    "version": 3
   },
   "file_extension": ".py",
   "mimetype": "text/x-python",
   "name": "python",
   "nbconvert_exporter": "python",
   "pygments_lexer": "ipython3",
   "version": "3.12.7"
  }
 },
 "nbformat": 4,
 "nbformat_minor": 5
}
